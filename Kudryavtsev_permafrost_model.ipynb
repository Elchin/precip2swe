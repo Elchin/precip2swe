{
 "cells": [
  {
   "cell_type": "markdown",
   "metadata": {},
   "source": [
    "**An analytical permafrost model** (Kudryavtsev's model) see (Sazonova et al., 2003. DOI: 10.1002/ppp.449, http://onlinelibrary.wiley.com/doi/10.1002/ppp.449/abstract). Author: Kang Wang. Date: March 3, 2016\n"
   ]
  },
  {
   "cell_type": "code",
   "execution_count": 1,
   "metadata": {
    "collapsed": true
   },
   "outputs": [],
   "source": [
    "import numpy as np"
   ]
  },
  {
   "cell_type": "code",
   "execution_count": 2,
   "metadata": {
    "collapsed": true
   },
   "outputs": [],
   "source": [
    "# INPUTs :\n",
    "#   Aa: amplitude of Tair\n",
    "#   Ta: annual mean air temperature\n",
    "#   Hsn: winter-averaged snow thickness\n",
    "#   rho_sn: snow density\n",
    "#   W_vol: volumetric water content\n",
    "#   Hvg1: winter-averaged height of vegetation cover\n",
    "#   Hvg2: summer-averaged height of vegetation cover\n",
    "#   Dvf: thermal conductivity of vegation in frozen state\n",
    "#   Dvt: thermal conductivity of vegation in thaw state\n",
    "#   Soil Texture, including percent of sand, silt and clay\n",
    "#   Kf: thermal conductivity of frozen ground\n",
    "#   Kt: thermal conductivity of thawed ground\n",
    "#   Ct: volumetric heat capacity of thawed ground\n",
    "#   Cf: volumetric heat capacity of frozen ground\n",
    "\n",
    "rho_sn  = 240.;\n",
    "Hvg1    = 0.0;\n",
    "Hvg2    = 0.0;\n",
    "Dvf     = 1.39E-6;\n",
    "Dvt     = 5.56E-8;\n",
    "#Kf      = 2.305;\n",
    "#Kt      = 1.865;\n",
    "\n",
    "# Here we used measurements from http://permafrost.gi.alaska.edu for Barrow, AK site, 2012 \n",
    "Ta = -10.81\n",
    "Aa = 19.04\n",
    "Hsn = 0.28\n",
    "W_vol = 0.41\n",
    "\n",
    "# We use soil properties for Barrow site from the modified Harmonizied Soil Database. \n",
    "# Global Soil Texture and derived water holding capacities \n",
    "# http://webmap.ornl.gov/ogcdown/wcsdown.jsp?dg_id=548_6\n",
    "\n",
    "percent_silt = 0.30\n",
    "percent_sand = 0.60\n",
    "percent_clay = 0.10\n",
    "\n",
    "Bulk_Density_Silt = 1400.\n",
    "Heat_Capacity_Silt = 730.\n",
    "\n",
    "Bulk_Density_Sand = 1300.\n",
    "Heat_Capacity_Sand = 690.\n",
    "\n",
    "Bulk_Density_Clay = 1500.\n",
    "Heat_Capacity_Clay = 900.\n",
    "\n",
    "# Wet soils \n",
    "Kf_Silt = 2.40\n",
    "Kt_Silt = 1.90\n",
    "\n",
    "Kf_Sand = 2.65\n",
    "Kt_Sand = 2.15\n",
    "\n",
    "Kf_Clay = 2.00\n",
    "Kt_Clay = 1.70\n",
    "\n",
    "# Dry soils\n",
    "Kf_Silt = (1.25 + Kf_Silt) / 2.\n",
    "Kt_Silt = (1.05 + Kt_Silt) / 2.\n",
    "\n",
    "Kf_Sand = (1.25 + Kf_Sand) / 2.\n",
    "Kt_Sand = (1.05 + Kt_Sand) / 2.\n",
    "\n",
    "Kf_Clay = (1.15 + Kf_Clay) / 2.\n",
    "Kt_Clay = (0.90 + Kt_Clay) / 2.\n",
    "\n",
    "Heat_Capacity = Heat_Capacity_Clay**percent_clay * \\\n",
    "                Heat_Capacity_Sand**percent_sand * \\\n",
    "                Heat_Capacity_Silt**percent_silt\n",
    "                \n",
    "Bulk_Density =  Bulk_Density_Clay**percent_clay * \\\n",
    "                Bulk_Density_Sand**percent_sand * \\\n",
    "                Bulk_Density_Silt**percent_silt"
   ]
  },
  {
   "cell_type": "markdown",
   "metadata": {},
   "source": [
    "Here we estimate volumetric heat capacities (Ct and Cf); and thermal conductivities (Kt and Kf) based on  Anisimov et al., (1997) (doi:10.1016/S0921-8181(97)00009-X, http://www.sciencedirect.com/science/article/pii/S092181819700009X)."
   ]
  },
  {
   "cell_type": "code",
   "execution_count": 3,
   "metadata": {
    "collapsed": false
   },
   "outputs": [],
   "source": [
    "# Anisimov et al. (1997)\n",
    "Ct =Heat_Capacity*Bulk_Density + 4190.*W_vol;\n",
    "Cf =Heat_Capacity*Bulk_Density + 2025.*W_vol;\n",
    "\n",
    "Kt = Kt_Silt**percent_silt * Kt_Clay**percent_clay * Kt_Sand**percent_sand\n",
    "Kf = Kf_Silt**percent_silt * Kf_Clay**percent_clay * Kf_Sand**percent_sand\n",
    "\n",
    "# Estimate Ksn and Csn from rho_sn \n",
    "\n",
    "Ksn = (rho_sn/1000.)*(rho_sn/1000.)*3.233-1.01*(rho_sn/1000)+0.138;\n",
    "Csn = rho_sn*2.09E3;\n",
    "\n",
    "tao = 365.*24.*3600.;\n",
    "tao1 = tao*(0.5 - 1./np.pi*np.arcsin(Ta/Aa)); # Cold Season \n",
    "tao2 = tao - tao1; # Warm Season\n",
    "    \n",
    "L = (3.35E8*W_vol*1.); # Latent Heat"
   ]
  },
  {
   "cell_type": "markdown",
   "metadata": {},
   "source": [
    "Estimation of the potential **snow** and **vegetation** effects. "
   ]
  },
  {
   "cell_type": "code",
   "execution_count": 4,
   "metadata": {
    "collapsed": true
   },
   "outputs": [],
   "source": [
    "# Snow \n",
    "    \n",
    "alpha = 2.*Aa*Cf/L;\n",
    "beta  = 2.*abs(Ta)*Cf/L;\n",
    "\n",
    "Cef = Cf*((alpha-beta)/((alpha - beta) - np.log((alpha+1.)/(beta+1.))));\n",
    "\n",
    "mu = (np.sqrt(Ksn*Csn) - np.sqrt(Kf*Cef))\\\n",
    "    /(np.sqrt(Ksn*Csn) + np.sqrt(Kf*Cef));\n",
    "\n",
    "s = np.exp(2.*Hsn*np.sqrt(np.pi*Csn/(tao*Ksn)))\\\n",
    "    +2.*mu*np.cos(2.*Hsn*np.sqrt(np.pi*Csn/(tao*Ksn)))\\\n",
    "    +mu**2.*np.exp(-2.*Hsn*np.sqrt(np.pi*Csn/(tao*Ksn)));\n",
    "\n",
    "deta_A = Aa*(1.0- (1.+mu)/np.sqrt(s));\n",
    "deta_Asn = deta_A*tao1/tao*0.5;\n",
    "deta_Tsn = 2./np.pi*deta_Asn;\n",
    "\n",
    "# Vegetation\n",
    "\n",
    "Tvg = Ta + deta_Tsn;\n",
    "Avg = Aa - deta_Asn;\n",
    "\n",
    "deta_A1 = (Avg - abs(Tvg)) * (1.-np.exp(-1.*Hvg1*np.sqrt(np.pi/(Dvf*2.*tao1))));\n",
    "deta_A2 = (Aa  - abs(Ta) ) * (1.-np.exp(-1.*Hvg2*np.sqrt(np.pi/(Dvt*2.*tao2))));\n",
    "\n",
    "deta_Av = (deta_A1*tao1+deta_A2*tao2) / tao;\n",
    "deta_Tv = (deta_A1*tao1-deta_A2*tao2) / tao * (2. / np.pi);\n",
    "\n",
    "Tgs = Tvg+deta_Tv;\n",
    "Ags = Avg-deta_Av;"
   ]
  },
  {
   "cell_type": "markdown",
   "metadata": {},
   "source": [
    "Calculation of the mean annual **temperature at the top of permafrost (TTOP)** and the **active layer thickness (ALT)**"
   ]
  },
  {
   "cell_type": "code",
   "execution_count": 5,
   "metadata": {
    "collapsed": false
   },
   "outputs": [
    {
     "name": "stdout",
     "output_type": "stream",
     "text": [
      "TTOP= -7.69149521078\n",
      "ALT= 0.578469574333\n"
     ]
    }
   ],
   "source": [
    "Tps_numerator = 0.5*Tgs*(Kf+Kt)\\\n",
    "                +(Ags*(Kt-Kf)/np.pi\\\n",
    "                *(Tgs/Ags*np.arcsin(Tgs/Ags)\\\n",
    "                +np.sqrt(1.-(np.pi*np.pi/(Ags*Ags)))));\n",
    "\n",
    "if Tps_numerator<=0.0:\n",
    "    K_star = Kf;\n",
    "    C = Cf;\n",
    "    K = Kf;\n",
    "    Flag = -1;\n",
    "else:\n",
    "    K_star = Kt;\n",
    "    C = Ct;\n",
    "    K = Kt;\n",
    "    Flag = 1;\n",
    "\n",
    "Tps = Tps_numerator/K_star;  # Temperature at the top of permafrost\n",
    "\n",
    "\n",
    "Aps = ((Ags - abs(Tps))/np.log((Ags+L/(2.*C))/(abs(Tps)+L/(2.*C))))- L/(2.*C);\n",
    "\n",
    "Zc = (2*(Ags - abs(Tps))*np.sqrt((K*tao*C)/np.pi)) / (2.*Aps*C + L);\n",
    "\n",
    "Zal = (2*(Ags - abs(Tps))*np.sqrt(K*tao*C/np.pi)\\\n",
    "    +(((2.*Aps*C*Zc+L*Zc)*L*np.sqrt(K*tao/(np.pi*C)))\\\n",
    "    /(2.*Ags*C*Zc + L*Zc +(2.*Aps*C+L)*np.sqrt(K*tao/(np.pi*C)))))\\\n",
    "    /(2.*Aps*C+L);  # Active Layer Thickness\n",
    "\n",
    "print 'TTOP=',Tps\n",
    "\n",
    "print 'ALT=',Zal"
   ]
  }
 ],
 "metadata": {
  "kernelspec": {
   "display_name": "Python 2",
   "language": "python",
   "name": "python2"
  },
  "language_info": {
   "codemirror_mode": {
    "name": "ipython",
    "version": 2
   },
   "file_extension": ".py",
   "mimetype": "text/x-python",
   "name": "python",
   "nbconvert_exporter": "python",
   "pygments_lexer": "ipython2",
   "version": "2.7.11"
  }
 },
 "nbformat": 4,
 "nbformat_minor": 0
}
